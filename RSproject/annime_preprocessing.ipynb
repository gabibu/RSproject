{
 "cells": [
  {
   "cell_type": "code",
   "execution_count": 1,
   "metadata": {},
   "outputs": [],
   "source": [
    "import pandas as pd\n",
    "import numpy as np \n",
    "from tqdm import tqdm\n",
    "tqdm.pandas()\n",
    "from collections import defaultdict \n",
    "import matplotlib.pyplot as plt\n",
    "import seaborn as sns"
   ]
  },
  {
   "cell_type": "code",
   "execution_count": 3,
   "metadata": {},
   "outputs": [
    {
     "data": {
      "text/plain": [
       "(7813737, 3)"
      ]
     },
     "execution_count": 3,
     "metadata": {},
     "output_type": "execute_result"
    }
   ],
   "source": [
    "anime_df = pd.read_csv('rs/datasets/anime/anime.csv')\n",
    "anime_df = anime_df.where(pd.notnull(anime_df), None)\n",
    "\n",
    "rating_df = pd.read_csv('rs/datasets/anime/rating.csv')\n",
    "rating_df = rating_df.where(pd.notnull(rating_df), None)\n",
    "\n",
    "anime_df = anime_df.where(pd.notnull(anime_df), None)\n",
    "rating_df = rating_df.where(pd.notnull(rating_df), None)\n",
    "\n",
    "rating_df.shape"
   ]
  },
  {
   "cell_type": "code",
   "execution_count": 4,
   "metadata": {},
   "outputs": [
    {
     "data": {
      "text/plain": [
       "anime_id      0\n",
       "name          0\n",
       "genre        62\n",
       "type         25\n",
       "episodes      0\n",
       "rating      230\n",
       "members       0\n",
       "dtype: int64"
      ]
     },
     "execution_count": 4,
     "metadata": {},
     "output_type": "execute_result"
    }
   ],
   "source": [
    "anime_df.isna().sum()"
   ]
  },
  {
   "cell_type": "code",
   "execution_count": 5,
   "metadata": {},
   "outputs": [],
   "source": [
    "anime_df['episodes'] = anime_df['episodes'].apply(lambda episodes: 0 if episodes =='Unknown' else int(episodes))"
   ]
  },
  {
   "cell_type": "code",
   "execution_count": 6,
   "metadata": {},
   "outputs": [],
   "source": [
    "\n",
    "anime_df['rating'] = anime_df['rating'].apply(lambda rating: -1 if rating is None else rating)"
   ]
  },
  {
   "cell_type": "code",
   "execution_count": 7,
   "metadata": {},
   "outputs": [
    {
     "data": {
      "text/plain": [
       "(6337241, 3)"
      ]
     },
     "execution_count": 7,
     "metadata": {},
     "output_type": "execute_result"
    }
   ],
   "source": [
    "rating_df =rating_df[rating_df['rating'] >= 0]\n",
    "rating_df.shape"
   ]
  },
  {
   "cell_type": "code",
   "execution_count": 8,
   "metadata": {},
   "outputs": [
    {
     "data": {
      "text/html": [
       "<div>\n",
       "<style scoped>\n",
       "    .dataframe tbody tr th:only-of-type {\n",
       "        vertical-align: middle;\n",
       "    }\n",
       "\n",
       "    .dataframe tbody tr th {\n",
       "        vertical-align: top;\n",
       "    }\n",
       "\n",
       "    .dataframe thead th {\n",
       "        text-align: right;\n",
       "    }\n",
       "</style>\n",
       "<table border=\"1\" class=\"dataframe\">\n",
       "  <thead>\n",
       "    <tr style=\"text-align: right;\">\n",
       "      <th></th>\n",
       "      <th>anime_id</th>\n",
       "      <th>name</th>\n",
       "      <th>genre</th>\n",
       "      <th>type</th>\n",
       "      <th>episodes</th>\n",
       "      <th>rating</th>\n",
       "      <th>members</th>\n",
       "    </tr>\n",
       "  </thead>\n",
       "  <tbody>\n",
       "    <tr>\n",
       "      <th>3044</th>\n",
       "      <td>3620</td>\n",
       "      <td>Blue Seed Omake</td>\n",
       "      <td>Comedy, Parody</td>\n",
       "      <td>Special</td>\n",
       "      <td>14</td>\n",
       "      <td>7.09</td>\n",
       "      <td>1952</td>\n",
       "    </tr>\n",
       "    <tr>\n",
       "      <th>1028</th>\n",
       "      <td>530</td>\n",
       "      <td>Bishoujo Senshi Sailor Moon</td>\n",
       "      <td>Demons, Magic, Romance, Shoujo</td>\n",
       "      <td>TV</td>\n",
       "      <td>46</td>\n",
       "      <td>7.71</td>\n",
       "      <td>146521</td>\n",
       "    </tr>\n",
       "  </tbody>\n",
       "</table>\n",
       "</div>"
      ],
      "text/plain": [
       "      anime_id                         name                           genre  \\\n",
       "3044      3620              Blue Seed Omake                  Comedy, Parody   \n",
       "1028       530  Bishoujo Senshi Sailor Moon  Demons, Magic, Romance, Shoujo   \n",
       "\n",
       "         type  episodes  rating  members  \n",
       "3044  Special        14    7.09     1952  \n",
       "1028       TV        46    7.71   146521  "
      ]
     },
     "execution_count": 8,
     "metadata": {},
     "output_type": "execute_result"
    }
   ],
   "source": [
    "anime_df.sample(2)"
   ]
  },
  {
   "cell_type": "code",
   "execution_count": 9,
   "metadata": {},
   "outputs": [
    {
     "data": {
      "text/html": [
       "<div>\n",
       "<style scoped>\n",
       "    .dataframe tbody tr th:only-of-type {\n",
       "        vertical-align: middle;\n",
       "    }\n",
       "\n",
       "    .dataframe tbody tr th {\n",
       "        vertical-align: top;\n",
       "    }\n",
       "\n",
       "    .dataframe thead th {\n",
       "        text-align: right;\n",
       "    }\n",
       "</style>\n",
       "<table border=\"1\" class=\"dataframe\">\n",
       "  <thead>\n",
       "    <tr style=\"text-align: right;\">\n",
       "      <th></th>\n",
       "      <th>user_id</th>\n",
       "      <th>anime_id</th>\n",
       "      <th>rating</th>\n",
       "    </tr>\n",
       "  </thead>\n",
       "  <tbody>\n",
       "    <tr>\n",
       "      <th>2979195</th>\n",
       "      <td>27652</td>\n",
       "      <td>71</td>\n",
       "      <td>4</td>\n",
       "    </tr>\n",
       "    <tr>\n",
       "      <th>5791097</th>\n",
       "      <td>54177</td>\n",
       "      <td>11235</td>\n",
       "      <td>3</td>\n",
       "    </tr>\n",
       "  </tbody>\n",
       "</table>\n",
       "</div>"
      ],
      "text/plain": [
       "         user_id  anime_id  rating\n",
       "2979195    27652        71       4\n",
       "5791097    54177     11235       3"
      ]
     },
     "execution_count": 9,
     "metadata": {},
     "output_type": "execute_result"
    }
   ],
   "source": [
    "rating_df.sample(2)"
   ]
  },
  {
   "cell_type": "code",
   "execution_count": 10,
   "metadata": {},
   "outputs": [],
   "source": [
    "def split_geners(geners):\n",
    "    if geners is None:\n",
    "        return None\n",
    "    \n",
    "    geners = geners.lower().strip().split(',')\n",
    "    \n",
    "    return {g.strip() for g in geners}\n",
    "    "
   ]
  },
  {
   "cell_type": "code",
   "execution_count": 11,
   "metadata": {},
   "outputs": [
    {
     "name": "stderr",
     "output_type": "stream",
     "text": [
      "100%|██████████| 12294/12294 [00:00<00:00, 529553.82it/s]\n"
     ]
    }
   ],
   "source": [
    "anime_df['genres'] = anime_df['genre'].progress_apply(split_geners)"
   ]
  },
  {
   "cell_type": "code",
   "execution_count": 12,
   "metadata": {},
   "outputs": [],
   "source": [
    "anime_df['num_of_genres'] = anime_df['genres'].apply(lambda genres: 0 if genres is None else len(genres))"
   ]
  },
  {
   "cell_type": "code",
   "execution_count": 13,
   "metadata": {},
   "outputs": [
    {
     "data": {
      "image/png": "[encoded data removed]",
      "text/plain": [
       "<Figure size 432x288 with 1 Axes>"
      ]
     },
     "metadata": {
      "needs_background": "light"
     },
     "output_type": "display_data"
    }
   ],
   "source": [
    "import matplotlib.pyplot as plt\n",
    "\n",
    "_ = plt.hist(anime_df['num_of_genres'].tolist(), bins='auto')  # arguments are passed to np.histogram\n",
    "plt.title(\"num_of_genres\")\n",
    "plt.show()"
   ]
  },
  {
   "cell_type": "code",
   "execution_count": 53,
   "metadata": {},
   "outputs": [
    {
     "data": {
      "text/plain": [
       "(1141.0, 240.0)"
      ]
     },
     "execution_count": 53,
     "metadata": {},
     "output_type": "execute_result"
    }
   ],
   "source": [
    "genres = anime_df[anime_df['genres'].notnull()]['genres'].tolist()\n",
    "\n",
    "genres = [genre.strip() for anime_ganers in genres for genre in anime_ganers]\n",
    "len(genres), genres[0:2]\n",
    "\n",
    "gener_counter = defaultdict(lambda: 0.0)\n",
    "\n",
    "for gener in genres:\n",
    "    gener_counter[gener] += 1\n",
    "\n",
    "\n",
    "gener_counter['hentai'], gener_counter['dementia']"
   ]
  },
  {
   "cell_type": "code",
   "execution_count": 54,
   "metadata": {},
   "outputs": [],
   "source": [
    "def set_ganers(genres, k=4):\n",
    "    if genres is None:\n",
    "        selected_geners = ['NA' for _ in range(k)]\n",
    "    \n",
    "    elif len(genres) > k:\n",
    "        current_genres_counters = [(g, gener_counter[g]) for g in  genres]\n",
    "        \n",
    "        selected_geners = sorted(current_genres_counters, key = lambda x: x[1], reverse = True)[0: k]\n",
    "        selected_geners = [x[0] for x in selected_geners]\n",
    "    else:\n",
    "        missing = k - len(genres)\n",
    "        \n",
    "        selected_geners = list(genres) + ['NA'] * missing\n",
    "    \n",
    "    return pd.Series(selected_geners)\n",
    "                "
   ]
  },
  {
   "cell_type": "code",
   "execution_count": 55,
   "metadata": {},
   "outputs": [
    {
     "data": {
      "text/plain": [
       "({'drama', 'romance', 'school', 'supernatural'},\n",
       " {'comedy', 'school', 'shounen', 'sports'})"
      ]
     },
     "execution_count": 55,
     "metadata": {},
     "output_type": "execute_result"
    }
   ],
   "source": [
    "anime_df.iloc[0]['genres'], anime_df.iloc[100]['genres']"
   ]
  },
  {
   "cell_type": "code",
   "execution_count": 56,
   "metadata": {},
   "outputs": [
    {
     "name": "stderr",
     "output_type": "stream",
     "text": [
      "100%|█████████████████████████████████████████████████████████████████████████████████████████████████████| 12294/12294 [00:01<00:00, 9799.46it/s]\n"
     ]
    }
   ],
   "source": [
    "anime_df[['gener1','gener2','gener3','gener4']] = anime_df['genres'].progress_apply(lambda x: set_ganers(x, 4))"
   ]
  },
  {
   "cell_type": "code",
   "execution_count": 57,
   "metadata": {},
   "outputs": [
    {
     "data": {
      "text/html": [
       "<div>\n",
       "<style scoped>\n",
       "    .dataframe tbody tr th:only-of-type {\n",
       "        vertical-align: middle;\n",
       "    }\n",
       "\n",
       "    .dataframe tbody tr th {\n",
       "        vertical-align: top;\n",
       "    }\n",
       "\n",
       "    .dataframe thead th {\n",
       "        text-align: right;\n",
       "    }\n",
       "</style>\n",
       "<table border=\"1\" class=\"dataframe\">\n",
       "  <thead>\n",
       "    <tr style=\"text-align: right;\">\n",
       "      <th></th>\n",
       "      <th>anime_id</th>\n",
       "      <th>name</th>\n",
       "      <th>genre</th>\n",
       "      <th>type</th>\n",
       "      <th>episodes</th>\n",
       "      <th>rating</th>\n",
       "      <th>members</th>\n",
       "      <th>genres</th>\n",
       "      <th>num_of_genres</th>\n",
       "      <th>gener1</th>\n",
       "      <th>gener2</th>\n",
       "      <th>gener3</th>\n",
       "      <th>gener4</th>\n",
       "    </tr>\n",
       "  </thead>\n",
       "  <tbody>\n",
       "    <tr>\n",
       "      <th>5977</th>\n",
       "      <td>8196</td>\n",
       "      <td>Kawasaki Frontale x Tentai Senshi Sunred 2nd S...</td>\n",
       "      <td>Comedy, Parody, Seinen, Sports, Super Power</td>\n",
       "      <td>Special</td>\n",
       "      <td>1</td>\n",
       "      <td>6.29</td>\n",
       "      <td>321</td>\n",
       "      <td>{sports, seinen, parody, comedy, super power}</td>\n",
       "      <td>5</td>\n",
       "      <td>comedy</td>\n",
       "      <td>seinen</td>\n",
       "      <td>sports</td>\n",
       "      <td>super power</td>\n",
       "    </tr>\n",
       "    <tr>\n",
       "      <th>4514</th>\n",
       "      <td>2105</td>\n",
       "      <td>Touka Gettan</td>\n",
       "      <td>Drama, Romance, Supernatural</td>\n",
       "      <td>TV</td>\n",
       "      <td>26</td>\n",
       "      <td>6.71</td>\n",
       "      <td>13921</td>\n",
       "      <td>{drama, supernatural, romance}</td>\n",
       "      <td>3</td>\n",
       "      <td>drama</td>\n",
       "      <td>supernatural</td>\n",
       "      <td>romance</td>\n",
       "      <td>NA</td>\n",
       "    </tr>\n",
       "  </tbody>\n",
       "</table>\n",
       "</div>"
      ],
      "text/plain": [
       "      anime_id                                               name  \\\n",
       "5977      8196  Kawasaki Frontale x Tentai Senshi Sunred 2nd S...   \n",
       "4514      2105                                       Touka Gettan   \n",
       "\n",
       "                                            genre     type  episodes  rating  \\\n",
       "5977  Comedy, Parody, Seinen, Sports, Super Power  Special         1    6.29   \n",
       "4514                 Drama, Romance, Supernatural       TV        26    6.71   \n",
       "\n",
       "      members                                         genres  num_of_genres  \\\n",
       "5977      321  {sports, seinen, parody, comedy, super power}              5   \n",
       "4514    13921                 {drama, supernatural, romance}              3   \n",
       "\n",
       "      gener1        gener2   gener3       gener4  \n",
       "5977  comedy        seinen   sports  super power  \n",
       "4514   drama  supernatural  romance           NA  "
      ]
     },
     "execution_count": 57,
     "metadata": {},
     "output_type": "execute_result"
    }
   ],
   "source": [
    "anime_df.sample(2)"
   ]
  },
  {
   "cell_type": "code",
   "execution_count": 58,
   "metadata": {},
   "outputs": [
    {
     "data": {
      "text/html": [
       "<div>\n",
       "<style scoped>\n",
       "    .dataframe tbody tr th:only-of-type {\n",
       "        vertical-align: middle;\n",
       "    }\n",
       "\n",
       "    .dataframe tbody tr th {\n",
       "        vertical-align: top;\n",
       "    }\n",
       "\n",
       "    .dataframe thead th {\n",
       "        text-align: right;\n",
       "    }\n",
       "</style>\n",
       "<table border=\"1\" class=\"dataframe\">\n",
       "  <thead>\n",
       "    <tr style=\"text-align: right;\">\n",
       "      <th></th>\n",
       "      <th>user_id</th>\n",
       "      <th>anime_id</th>\n",
       "      <th>rating</th>\n",
       "    </tr>\n",
       "  </thead>\n",
       "  <tbody>\n",
       "    <tr>\n",
       "      <th>4936974</th>\n",
       "      <td>47300</td>\n",
       "      <td>6880</td>\n",
       "      <td>7</td>\n",
       "    </tr>\n",
       "    <tr>\n",
       "      <th>4705243</th>\n",
       "      <td>44975</td>\n",
       "      <td>3588</td>\n",
       "      <td>9</td>\n",
       "    </tr>\n",
       "  </tbody>\n",
       "</table>\n",
       "</div>"
      ],
      "text/plain": [
       "         user_id  anime_id  rating\n",
       "4936974    47300      6880       7\n",
       "4705243    44975      3588       9"
      ]
     },
     "execution_count": 58,
     "metadata": {},
     "output_type": "execute_result"
    }
   ],
   "source": [
    "rating_df.sample(2)"
   ]
  },
  {
   "cell_type": "code",
   "execution_count": 59,
   "metadata": {},
   "outputs": [
    {
     "data": {
      "image/png": "[encoded data removed]",
      "text/plain": [
       "<Figure size 432x288 with 1 Axes>"
      ]
     },
     "metadata": {
      "needs_background": "light"
     },
     "output_type": "display_data"
    }
   ],
   "source": [
    "_ = plt.hist(rating_df['rating'].tolist(), bins='auto')  # arguments are passed to np.histogram\n",
    "plt.title(\"Rating\")\n",
    "plt.show()"
   ]
  },
  {
   "cell_type": "code",
   "execution_count": 60,
   "metadata": {},
   "outputs": [
    {
     "data": {
      "text/html": [
       "<div>\n",
       "<style scoped>\n",
       "    .dataframe tbody tr th:only-of-type {\n",
       "        vertical-align: middle;\n",
       "    }\n",
       "\n",
       "    .dataframe tbody tr th {\n",
       "        vertical-align: top;\n",
       "    }\n",
       "\n",
       "    .dataframe thead th {\n",
       "        text-align: right;\n",
       "    }\n",
       "</style>\n",
       "<table border=\"1\" class=\"dataframe\">\n",
       "  <thead>\n",
       "    <tr style=\"text-align: right;\">\n",
       "      <th></th>\n",
       "      <th>anime_id</th>\n",
       "      <th>name</th>\n",
       "      <th>genre</th>\n",
       "      <th>type</th>\n",
       "      <th>episodes</th>\n",
       "      <th>rating</th>\n",
       "      <th>members</th>\n",
       "      <th>genres</th>\n",
       "      <th>num_of_genres</th>\n",
       "      <th>gener1</th>\n",
       "      <th>gener2</th>\n",
       "      <th>gener3</th>\n",
       "      <th>gener4</th>\n",
       "    </tr>\n",
       "  </thead>\n",
       "  <tbody>\n",
       "    <tr>\n",
       "      <th>5529</th>\n",
       "      <td>614</td>\n",
       "      <td>Okusama wa Mahou Shoujo</td>\n",
       "      <td>Magic, Romance</td>\n",
       "      <td>TV</td>\n",
       "      <td>13</td>\n",
       "      <td>6.43</td>\n",
       "      <td>5098</td>\n",
       "      <td>{magic, romance}</td>\n",
       "      <td>2</td>\n",
       "      <td>magic</td>\n",
       "      <td>romance</td>\n",
       "      <td>NA</td>\n",
       "      <td>NA</td>\n",
       "    </tr>\n",
       "    <tr>\n",
       "      <th>817</th>\n",
       "      <td>474</td>\n",
       "      <td>Macross Plus</td>\n",
       "      <td>Drama, Mecha, Military, Romance, Sci-Fi, Space</td>\n",
       "      <td>OVA</td>\n",
       "      <td>4</td>\n",
       "      <td>7.82</td>\n",
       "      <td>23138</td>\n",
       "      <td>{military, space, sci-fi, romance, mecha, drama}</td>\n",
       "      <td>6</td>\n",
       "      <td>sci-fi</td>\n",
       "      <td>drama</td>\n",
       "      <td>romance</td>\n",
       "      <td>mecha</td>\n",
       "    </tr>\n",
       "  </tbody>\n",
       "</table>\n",
       "</div>"
      ],
      "text/plain": [
       "      anime_id                     name  \\\n",
       "5529       614  Okusama wa Mahou Shoujo   \n",
       "817        474             Macross Plus   \n",
       "\n",
       "                                               genre type  episodes  rating  \\\n",
       "5529                                  Magic, Romance   TV        13    6.43   \n",
       "817   Drama, Mecha, Military, Romance, Sci-Fi, Space  OVA         4    7.82   \n",
       "\n",
       "      members                                            genres  \\\n",
       "5529     5098                                  {magic, romance}   \n",
       "817     23138  {military, space, sci-fi, romance, mecha, drama}   \n",
       "\n",
       "      num_of_genres  gener1   gener2   gener3 gener4  \n",
       "5529              2   magic  romance       NA     NA  \n",
       "817               6  sci-fi    drama  romance  mecha  "
      ]
     },
     "execution_count": 60,
     "metadata": {},
     "output_type": "execute_result"
    }
   ],
   "source": [
    "anime_df.sample(2)"
   ]
  },
  {
   "cell_type": "code",
   "execution_count": 61,
   "metadata": {},
   "outputs": [
    {
     "data": {
      "text/plain": [
       "44"
      ]
     },
     "execution_count": 61,
     "metadata": {},
     "output_type": "execute_result"
    }
   ],
   "source": [
    "all_geners = set(gener_counter.keys())\n",
    "\n",
    "all_geners.add('NA')\n",
    "len(all_geners)"
   ]
  },
  {
   "cell_type": "code",
   "execution_count": 62,
   "metadata": {},
   "outputs": [
    {
     "data": {
      "text/plain": [
       "{'horror': 0,\n",
       " 'NA': 1,\n",
       " 'action': 2,\n",
       " 'parody': 3,\n",
       " 'demons': 4,\n",
       " 'adventure': 5,\n",
       " 'ecchi': 6,\n",
       " 'kids': 7,\n",
       " 'hentai': 8,\n",
       " 'yaoi': 9,\n",
       " 'martial arts': 10,\n",
       " 'josei': 11,\n",
       " 'sports': 12,\n",
       " 'cars': 13,\n",
       " 'samurai': 14,\n",
       " 'music': 15,\n",
       " 'shoujo ai': 16,\n",
       " 'magic': 17,\n",
       " 'romance': 18,\n",
       " 'thriller': 19,\n",
       " 'yuri': 20,\n",
       " 'drama': 21,\n",
       " 'school': 22,\n",
       " 'slice of life': 23,\n",
       " 'seinen': 24,\n",
       " 'sci-fi': 25,\n",
       " 'comedy': 26,\n",
       " 'supernatural': 27,\n",
       " 'shoujo': 28,\n",
       " 'police': 29,\n",
       " 'dementia': 30,\n",
       " 'shounen ai': 31,\n",
       " 'shounen': 32,\n",
       " 'military': 33,\n",
       " 'fantasy': 34,\n",
       " 'space': 35,\n",
       " 'psychological': 36,\n",
       " 'game': 37,\n",
       " 'historical': 38,\n",
       " 'mystery': 39,\n",
       " 'mecha': 40,\n",
       " 'super power': 41,\n",
       " 'vampire': 42,\n",
       " 'harem': 43}"
      ]
     },
     "execution_count": 62,
     "metadata": {},
     "output_type": "execute_result"
    }
   ],
   "source": [
    "gener_to_id = {gener:i for (i, gener) in  enumerate(all_geners)}\n",
    "gener_to_id"
   ]
  },
  {
   "cell_type": "code",
   "execution_count": 63,
   "metadata": {},
   "outputs": [],
   "source": [
    "anime_df['gener1'] = anime_df['gener1'].apply(lambda g: gener_to_id[g]) \n",
    "anime_df['gener2'] = anime_df['gener2'].apply(lambda g: gener_to_id[g]) \n",
    "anime_df['gener3'] = anime_df['gener3'].apply(lambda g: gener_to_id[g]) \n",
    "anime_df['gener4'] = anime_df['gener4'].apply(lambda g: gener_to_id[g]) "
   ]
  },
  {
   "cell_type": "code",
   "execution_count": 64,
   "metadata": {},
   "outputs": [],
   "source": [
    "anime_df['type'] = anime_df['type'].apply(lambda anime_type:anime_type if  anime_type is not None else 'NA')"
   ]
  },
  {
   "cell_type": "code",
   "execution_count": 65,
   "metadata": {},
   "outputs": [
    {
     "data": {
      "text/plain": [
       "{'NA': 0, 'TV': 1, 'Movie': 2, 'ONA': 3, 'OVA': 4, 'Music': 5, 'Special': 6}"
      ]
     },
     "execution_count": 65,
     "metadata": {},
     "output_type": "execute_result"
    }
   ],
   "source": [
    "anime_types = set(pd.unique(anime_df['type']).tolist())\n",
    "\n",
    "anime_type_to_id = {anime_type: i for (i, anime_type) in enumerate(anime_types)}\n",
    "\n",
    "anime_type_to_id"
   ]
  },
  {
   "cell_type": "code",
   "execution_count": 66,
   "metadata": {},
   "outputs": [],
   "source": [
    "anime_df['type'] = anime_df['type'].apply(lambda t: anime_type_to_id[t]) "
   ]
  },
  {
   "cell_type": "code",
   "execution_count": 67,
   "metadata": {},
   "outputs": [
    {
     "data": {
      "text/html": [
       "<div>\n",
       "<style scoped>\n",
       "    .dataframe tbody tr th:only-of-type {\n",
       "        vertical-align: middle;\n",
       "    }\n",
       "\n",
       "    .dataframe tbody tr th {\n",
       "        vertical-align: top;\n",
       "    }\n",
       "\n",
       "    .dataframe thead th {\n",
       "        text-align: right;\n",
       "    }\n",
       "</style>\n",
       "<table border=\"1\" class=\"dataframe\">\n",
       "  <thead>\n",
       "    <tr style=\"text-align: right;\">\n",
       "      <th></th>\n",
       "      <th>anime_id</th>\n",
       "      <th>name</th>\n",
       "      <th>genre</th>\n",
       "      <th>type</th>\n",
       "      <th>episodes</th>\n",
       "      <th>rating</th>\n",
       "      <th>members</th>\n",
       "      <th>genres</th>\n",
       "      <th>num_of_genres</th>\n",
       "      <th>gener1</th>\n",
       "      <th>gener2</th>\n",
       "      <th>gener3</th>\n",
       "      <th>gener4</th>\n",
       "    </tr>\n",
       "  </thead>\n",
       "  <tbody>\n",
       "    <tr>\n",
       "      <th>932</th>\n",
       "      <td>18619</td>\n",
       "      <td>Girls und Panzer: Kore ga Hontou no Anzio-sen ...</td>\n",
       "      <td>Military, School</td>\n",
       "      <td>4</td>\n",
       "      <td>1</td>\n",
       "      <td>7.76</td>\n",
       "      <td>16143</td>\n",
       "      <td>{military, school}</td>\n",
       "      <td>2</td>\n",
       "      <td>33</td>\n",
       "      <td>22</td>\n",
       "      <td>1</td>\n",
       "      <td>1</td>\n",
       "    </tr>\n",
       "  </tbody>\n",
       "</table>\n",
       "</div>"
      ],
      "text/plain": [
       "     anime_id                                               name  \\\n",
       "932     18619  Girls und Panzer: Kore ga Hontou no Anzio-sen ...   \n",
       "\n",
       "                genre  type  episodes  rating  members              genres  \\\n",
       "932  Military, School     4         1    7.76    16143  {military, school}   \n",
       "\n",
       "     num_of_genres  gener1  gener2  gener3  gener4  \n",
       "932              2      33      22       1       1  "
      ]
     },
     "execution_count": 67,
     "metadata": {},
     "output_type": "execute_result"
    }
   ],
   "source": [
    "anime_df.sample(1)"
   ]
  },
  {
   "cell_type": "code",
   "execution_count": 68,
   "metadata": {},
   "outputs": [],
   "source": [
    "def set_rating_class(rating):\n",
    "    \n",
    "    if rating < 0:\n",
    "        return 0\n",
    "    elif rating <= 1:\n",
    "        return 1\n",
    "    elif rating <= 1.5:\n",
    "        return 2\n",
    "    elif rating <= 2.:\n",
    "        return 3\n",
    "    elif rating <= 2.5:\n",
    "        return 4\n",
    "    elif rating <= 3.:\n",
    "        return 5\n",
    "    elif rating <= 3.5:\n",
    "        return 6\n",
    "    elif rating <= 4.:\n",
    "        return 7\n",
    "    elif rating <= 4.5:\n",
    "        return 8\n",
    "    elif rating <= 5:\n",
    "        return 9\n",
    "    elif rating <= 5.5:\n",
    "        return 10\n",
    "    elif rating <= 6.:\n",
    "        return 11\n",
    "    elif rating <= 6.5:\n",
    "        return 12\n",
    "    elif rating <= 7.:\n",
    "        return 13\n",
    "    elif rating <= 7.5:\n",
    "        return 14\n",
    "    elif rating <= 8.:\n",
    "        return 15\n",
    "    elif rating <= 8.5:\n",
    "        return 16\n",
    "    elif rating <= 9.:\n",
    "        return 17\n",
    "    elif rating <= 9.5:\n",
    "        return 18\n",
    "    \n",
    "    return 19\n",
    "    \n",
    "    \n",
    "    \n"
   ]
  },
  {
   "cell_type": "code",
   "execution_count": 75,
   "metadata": {},
   "outputs": [
    {
     "name": "stderr",
     "output_type": "stream",
     "text": [
      "100%|███████████████████████████████████████████████████████████████████████████████████████████████████| 12294/12294 [00:00<00:00, 812005.31it/s]\n"
     ]
    }
   ],
   "source": [
    "anime_df['rating'] = anime_df['rating'].progress_apply(set_rating_class)"
   ]
  },
  {
   "cell_type": "code",
   "execution_count": 70,
   "metadata": {},
   "outputs": [
    {
     "data": {
      "text/html": [
       "<div>\n",
       "<style scoped>\n",
       "    .dataframe tbody tr th:only-of-type {\n",
       "        vertical-align: middle;\n",
       "    }\n",
       "\n",
       "    .dataframe tbody tr th {\n",
       "        vertical-align: top;\n",
       "    }\n",
       "\n",
       "    .dataframe thead th {\n",
       "        text-align: right;\n",
       "    }\n",
       "</style>\n",
       "<table border=\"1\" class=\"dataframe\">\n",
       "  <thead>\n",
       "    <tr style=\"text-align: right;\">\n",
       "      <th></th>\n",
       "      <th>anime_id</th>\n",
       "      <th>type</th>\n",
       "      <th>episodes</th>\n",
       "      <th>rating</th>\n",
       "      <th>members</th>\n",
       "      <th>gener1</th>\n",
       "      <th>gener2</th>\n",
       "      <th>gener3</th>\n",
       "      <th>gener4</th>\n",
       "      <th>num_of_genres</th>\n",
       "    </tr>\n",
       "  </thead>\n",
       "  <tbody>\n",
       "    <tr>\n",
       "      <th>11490</th>\n",
       "      <td>30128</td>\n",
       "      <td>4</td>\n",
       "      <td>1</td>\n",
       "      <td>13</td>\n",
       "      <td>2115</td>\n",
       "      <td>8</td>\n",
       "      <td>1</td>\n",
       "      <td>1</td>\n",
       "      <td>1</td>\n",
       "      <td>1</td>\n",
       "    </tr>\n",
       "    <tr>\n",
       "      <th>1244</th>\n",
       "      <td>18499</td>\n",
       "      <td>4</td>\n",
       "      <td>3</td>\n",
       "      <td>15</td>\n",
       "      <td>13790</td>\n",
       "      <td>26</td>\n",
       "      <td>2</td>\n",
       "      <td>32</td>\n",
       "      <td>27</td>\n",
       "      <td>6</td>\n",
       "    </tr>\n",
       "  </tbody>\n",
       "</table>\n",
       "</div>"
      ],
      "text/plain": [
       "       anime_id  type  episodes  rating  members  gener1  gener2  gener3  \\\n",
       "11490     30128     4         1      13     2115       8       1       1   \n",
       "1244      18499     4         3      15    13790      26       2      32   \n",
       "\n",
       "       gener4  num_of_genres  \n",
       "11490       1              1  \n",
       "1244       27              6  "
      ]
     },
     "execution_count": 70,
     "metadata": {},
     "output_type": "execute_result"
    }
   ],
   "source": [
    "anime_df[['anime_id', 'type', 'episodes', 'rating', 'members',\n",
    "         'gener1', 'gener2', 'gener3', 'gener4', 'num_of_genres']].sample(2)"
   ]
  },
  {
   "cell_type": "code",
   "execution_count": 71,
   "metadata": {},
   "outputs": [],
   "source": [
    "anime_df[['anime_id', 'type', 'episodes', 'rating', 'members',\n",
    "         'gener1', 'gener2', 'gener3', 'gener4', 'num_of_genres']].to_csv('/home/gabib/workspace/rs/datasets/anime/anime_processed.csv', index = False)"
   ]
  },
  {
   "cell_type": "code",
   "execution_count": 72,
   "metadata": {},
   "outputs": [],
   "source": [
    "animes_with_attrs = set(anime_df['anime_id'].tolist())"
   ]
  },
  {
   "cell_type": "code",
   "execution_count": 73,
   "metadata": {},
   "outputs": [
    {
     "data": {
      "text/plain": [
       "(6337239, 3)"
      ]
     },
     "execution_count": 73,
     "metadata": {},
     "output_type": "execute_result"
    }
   ],
   "source": [
    "rating_df = rating_df[rating_df['anime_id'].isin(animes_with_attrs)]\n",
    "rating_df.shape"
   ]
  },
  {
   "cell_type": "code",
   "execution_count": 74,
   "metadata": {},
   "outputs": [],
   "source": [
    "rating_df.to_csv('/rs/datasets/anime/ratings_processed.csv', index = False)"
   ]
  },
  {
   "cell_type": "code",
   "execution_count": null,
   "metadata": {},
   "outputs": [],
   "source": []
  }
 ],
 "metadata": {
  "kernelspec": {
   "display_name": "RS1(1)",
   "language": "python",
   "name": "rs1"
  },
  "language_info": {
   "codemirror_mode": {
    "name": "ipython",
    "version": 3
   },
   "file_extension": ".py",
   "mimetype": "text/x-python",
   "name": "python",
   "nbconvert_exporter": "python",
   "pygments_lexer": "ipython3",
   "version": "3.6.13"
  }
 },
 "nbformat": 4,
 "nbformat_minor": 4
}

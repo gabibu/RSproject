{
 "cells": [
  {
   "cell_type": "code",
   "execution_count": 1,
   "metadata": {},
   "outputs": [],
   "source": [
    "import torch\n",
    "import tqdm\n",
    "from typing import Optional\n",
    "from sklearn.metrics import mean_absolute_error, ndcg_score \n",
    "from rs.models.xdfm import ExtremeDeepFactorizationMachineModel\n",
    "from rs.datasets.anime import AnimeDatasetBuilder\n",
    "import logging\n",
    "import torch.nn as nn\n",
    "from rs.train_anime import get_model, get_baseline_model\n",
    "from rs.improvedxdfm import get_improved_xdfm_model\n",
    "import seaborn as sns\n",
    "import pandas as pd\n",
    "import numpy as np\n",
    "from rs.models.modelwarapper import PredictionsUtils"
   ]
  },
  {
   "cell_type": "code",
   "execution_count": 2,
   "metadata": {},
   "outputs": [],
   "source": [
    "CHECKPINT_PATH = 'rs/RSproject/rs/chkpt/anime_model_checkpoint_v2.pt\n",
    "CHECKPINT_PATH_XDFM = 'rs/RSproject/rs/chkpt/anime_model_checkpoint_v2_improved_xdfm.pt'\n",
    "DATASET_PATH = 'rs/datasets/anime'"
   ]
  },
  {
   "cell_type": "code",
   "execution_count": 3,
   "metadata": {},
   "outputs": [
    {
     "data": {
      "text/plain": [
       "ExtremeDeepFactorizationMachineModel(\n",
       "  (embedding): FeaturesEmbedding(\n",
       "    (embedding): Embedding(1123947, 16)\n",
       "  )\n",
       "  (cin): CompressedInteractionNetwork(\n",
       "    (conv_layers): ModuleList(\n",
       "      (0): Conv1d(121, 16, kernel_size=(1,), stride=(1,))\n",
       "      (1): Conv1d(176, 16, kernel_size=(1,), stride=(1,))\n",
       "    )\n",
       "    (fc): Linear(in_features=32, out_features=1, bias=True)\n",
       "  )\n",
       "  (mlp): MultiLayerPerceptron(\n",
       "    (mlp): Sequential(\n",
       "      (0): Linear(in_features=176, out_features=16, bias=True)\n",
       "      (1): BatchNorm1d(16, eps=1e-05, momentum=0.1, affine=True, track_running_stats=True)\n",
       "      (2): ReLU()\n",
       "      (3): Dropout(p=0.2, inplace=False)\n",
       "      (4): Linear(in_features=16, out_features=16, bias=True)\n",
       "      (5): BatchNorm1d(16, eps=1e-05, momentum=0.1, affine=True, track_running_stats=True)\n",
       "      (6): ReLU()\n",
       "      (7): Dropout(p=0.2, inplace=False)\n",
       "      (8): Linear(in_features=16, out_features=1, bias=True)\n",
       "    )\n",
       "  )\n",
       "  (linear): FeaturesLinear(\n",
       "    (fc): Embedding(1123947, 1)\n",
       "  )\n",
       ")"
      ]
     },
     "execution_count": 3,
     "metadata": {},
     "output_type": "execute_result"
    }
   ],
   "source": [
    "batch_size = 256\n",
    "device = 'cuda:0' if torch.cuda.is_available()  else 'cpu'\n",
    "device, batch_size\n",
    "\n",
    "dataset = AnimeDatasetBuilder.create_dataset(DATASET_PATH,\n",
    "                                                 batch_size= batch_size)\n",
    "\n",
    "model_state_dict = torch.load(CHECKPINT_PATH)['model_state_dict']\n",
    "xdf_model = get_model(dataset)\n",
    "xdf_model.load_state_dict(model_state_dict)\n",
    "xdf_model.eval()\n",
    "xdf_model.to(device)"
   ]
  },
  {
   "cell_type": "code",
   "execution_count": null,
   "metadata": {},
   "outputs": [],
   "source": [
    "model_state_dict = torch.load(CHECKPINT_PATH_XDFM)['model_state_dict']\n",
    "improved_xdf_model = get_improved_xdfm_model(dataset)\n",
    "improved_xdf_model.load_state_dict(model_state_dict)\n",
    "improved_xdf_model.eval()\n",
    "improved_xdf_model.to(device)"
   ]
  },
  {
   "cell_type": "code",
   "execution_count": 4,
   "metadata": {},
   "outputs": [],
   "source": [
    "baseline_xgb_model = get_baseline_model()"
   ]
  },
  {
   "cell_type": "code",
   "execution_count": 5,
   "metadata": {},
   "outputs": [
    {
     "name": "stderr",
     "output_type": "stream",
     "text": [
      "100%|██████████| 9902/9902 [00:06<00:00, 1528.83it/s]\n"
     ]
    },
    {
     "data": {
      "text/html": [
       "<div>\n",
       "<style scoped>\n",
       "    .dataframe tbody tr th:only-of-type {\n",
       "        vertical-align: middle;\n",
       "    }\n",
       "\n",
       "    .dataframe tbody tr th {\n",
       "        vertical-align: top;\n",
       "    }\n",
       "\n",
       "    .dataframe thead th {\n",
       "        text-align: right;\n",
       "    }\n",
       "</style>\n",
       "<table border=\"1\" class=\"dataframe\">\n",
       "  <thead>\n",
       "    <tr style=\"text-align: right;\">\n",
       "      <th></th>\n",
       "      <th>user_id</th>\n",
       "      <th>anime_id</th>\n",
       "      <th>target</th>\n",
       "      <th>prediction</th>\n",
       "    </tr>\n",
       "  </thead>\n",
       "  <tbody>\n",
       "    <tr>\n",
       "      <th>6753</th>\n",
       "      <td>61213</td>\n",
       "      <td>7088</td>\n",
       "      <td>7.0</td>\n",
       "      <td>6.4337</td>\n",
       "    </tr>\n",
       "  </tbody>\n",
       "</table>\n",
       "</div>"
      ],
      "text/plain": [
       "      user_id  anime_id  target  prediction\n",
       "6753    61213      7088     7.0      6.4337"
      ]
     },
     "execution_count": 5,
     "metadata": {},
     "output_type": "execute_result"
    }
   ],
   "source": [
    "xdfm_predictions_df = PredictionsUtils.get_xdfm_users_anime_predictions(xdf_model, DATASET_PATH, device)\n",
    "xdfm_predictions_df.sample(1)"
   ]
  },
  {
   "cell_type": "code",
   "execution_count": null,
   "metadata": {},
   "outputs": [],
   "source": [
    "improved_xdfm_predictions_df = PredictionsUtils.get_xdfm_users_anime_predictions(improved_xdf_model, DATASET_PATH, device)\n"
   ]
  },
  {
   "cell_type": "code",
   "execution_count": 10,
   "metadata": {},
   "outputs": [],
   "source": [
    "xgb_predictions_df = PredictionsUtils.get_xgboost_users_anime_predictions(baseline_xgb_model, DATASET_PATH)"
   ]
  },
  {
   "cell_type": "code",
   "execution_count": 8,
   "metadata": {},
   "outputs": [],
   "source": [
    "def calc_mean_absolute_error(predictions_df):\n",
    "    return mean_absolute_error(predictions_df['target'], predictions_df['prediction'])\n",
    "\n",
    "\n",
    "def user_reciprocal_rank(target_predictions, min_valid_rating = 9):\n",
    "    \n",
    "    target_predictions = sorted(target_predictions, key = lambda x: x[1], reverse = True)\n",
    "    \n",
    "    matched = [i for (i, (target, prediction)) in enumerate(target_predictions) if target >= min_valid_rating]\n",
    "    \n",
    "    if len(matched) > 0:\n",
    "        return 1/(matched[0] + 1)\n",
    "    else:\n",
    "        return None\n",
    "\n",
    "def calc_mean_reciprocal_rank(predictions_df, k=9):\n",
    "    \n",
    "    predictions_df['target_prediction'] = predictions_df.apply(lambda r: (r['target'], r['prediction']) ,axis=1)\n",
    "\n",
    "    user_predictions = predictions_df.groupby(['user_id'])['target_prediction'].apply(list).reset_index()\n",
    "\n",
    "    user_predictions['reciprocal_rank'] = user_predictions['target_prediction'].apply(lambda t: user_reciprocal_rank(t, k))\n",
    "\n",
    "    return np.mean(user_predictions[user_predictions['reciprocal_rank'].notnull()]['reciprocal_rank'].tolist())\n",
    "\n",
    "def calc_user_ndcg(target_predictions, k= None):\n",
    "    \n",
    "    if len(target_predictions) < 2:\n",
    "        return None\n",
    "    targets = [x[0] for x in target_predictions]\n",
    "    predictions = [x[1] for x in target_predictions]\n",
    "    \n",
    "    return ndcg_score([targets], [predictions])\n",
    "    \n",
    "    \n",
    "def calc_ndcg(predictions_df):\n",
    "    \n",
    "    predictions_df['target_prediction'] = predictions_df.apply(lambda r: (r['target'], r['prediction']) ,axis=1)\n",
    "    user_predictions = predictions_df.groupby(['user_id'])['target_prediction'].apply(list).reset_index()\n",
    "    \n",
    "    user_predictions['ndcg_score'] = user_predictions['target_prediction'].apply(calc_user_ndcg)\n",
    "    \n",
    "    return np.mean(user_predictions[user_predictions['ndcg_score'].notnull()]['ndcg_score'].tolist())\n",
    "\n",
    "def calc_metrics(predictions_df, model_name):\n",
    "    \n",
    "    mean_abs_error_score = calc_mean_absolute_error(predictions_df)\n",
    "    mean_reciprocal_rank_score_9 = calc_mean_reciprocal_rank(predictions_df, 9)\n",
    "    mean_reciprocal_rank_score_6 = calc_mean_reciprocal_rank(predictions_df, 6)\n",
    "    ndcg_score = calc_ndcg(predictions_df)\n",
    "    \n",
    "    return pd.DataFrame([(model_name, mean_abs_error_score, mean_reciprocal_rank_score_9, mean_reciprocal_rank_score_6, ndcg_score)],\n",
    "                       columns=['model_name','mean_absolute_error', 'reciprocal_rank_score (9)', 'reciprocal_rank_score (6)', 'ndcg_score'] )"
   ]
  },
  {
   "cell_type": "code",
   "execution_count": 11,
   "metadata": {},
   "outputs": [],
   "source": [
    "calc_metrics(xdfm_predictions_df, 'xdfm')"
   ]
  },
  {
   "cell_type": "code",
   "execution_count": null,
   "metadata": {},
   "outputs": [],
   "source": [
    "\n",
    "\n",
    "calc_metrics(improved_xdfm_predictions_df, 'improved_xdfm')"
   ]
  },
  {
   "cell_type": "code",
   "execution_count": null,
   "metadata": {},
   "outputs": [],
   "source": [
    "calc_metrics(xgb_predictions_df, 'xgboost')"
   ]
  },
  {
   "cell_type": "code",
   "execution_count": null,
   "metadata": {},
   "outputs": [],
   "source": []
  }
 ],
 "metadata": {
  "kernelspec": {
   "display_name": "RS1(1)",
   "language": "python",
   "name": "rs1"
  },
  "language_info": {
   "codemirror_mode": {
    "name": "ipython",
    "version": 3
   },
   "file_extension": ".py",
   "mimetype": "text/x-python",
   "name": "python",
   "nbconvert_exporter": "python",
   "pygments_lexer": "ipython3",
   "version": "3.6.13"
  }
 },
 "nbformat": 4,
 "nbformat_minor": 4
}

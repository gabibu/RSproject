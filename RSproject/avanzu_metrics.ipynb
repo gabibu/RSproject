{
 "cells": [
  {
   "cell_type": "code",
   "execution_count": 14,
   "metadata": {},
   "outputs": [],
   "source": [
    "import torch\n",
    "import tqdm\n",
    "from typing import Optional\n",
    "from sklearn.metrics import log_loss, ndcg_score, roc_curve, auc, recall_score, precision_score, f1_score\n",
    "from rs.models.xdfm import ExtremeDeepFactorizationMachineModel\n",
    "from rs.datasets.avanzu import AvanzuDatasetBuilder\n",
    "import logging\n",
    "import torch.nn as nn\n",
    "from rs.train_avanzu import get_model, get_baseline_model\n",
    "import seaborn as sns\n",
    "import pandas as pd\n",
    "import numpy as np\n",
    "from rs.models.modelwarapper import PredictionsUtils"
   ]
  },
  {
   "cell_type": "code",
   "execution_count": 2,
   "metadata": {},
   "outputs": [],
   "source": [
    "CHECKPINT_PATH = '/rs/RSproject/rs/chkpt/avanzu_model_checkpoint_v1.pt'\n",
    "DATASET_PATH = '/rs/datasets/avazu-ctr-prediction'"
   ]
  },
  {
   "cell_type": "code",
   "execution_count": 3,
   "metadata": {},
   "outputs": [
    {
     "name": "stdout",
     "output_type": "stream",
     "text": [
      "read\n",
      "loaded\n"
     ]
    },
    {
     "data": {
      "text/plain": [
       "ExtremeDeepFactorizationMachineModel(\n",
       "  (embedding): FeaturesEmbedding(\n",
       "    (embedding): Embedding(23681188, 8)\n",
       "  )\n",
       "  (cin): CompressedInteractionNetwork(\n",
       "    (conv_layers): ModuleList(\n",
       "      (0): Conv1d(484, 8, kernel_size=(1,), stride=(1,))\n",
       "      (1): Conv1d(176, 8, kernel_size=(1,), stride=(1,))\n",
       "    )\n",
       "    (fc): Linear(in_features=16, out_features=1, bias=True)\n",
       "  )\n",
       "  (mlp): MultiLayerPerceptron(\n",
       "    (mlp): Sequential(\n",
       "      (0): Linear(in_features=176, out_features=8, bias=True)\n",
       "      (1): BatchNorm1d(8, eps=1e-05, momentum=0.1, affine=True, track_running_stats=True)\n",
       "      (2): ReLU()\n",
       "      (3): Dropout(p=0.2, inplace=False)\n",
       "      (4): Linear(in_features=8, out_features=8, bias=True)\n",
       "      (5): BatchNorm1d(8, eps=1e-05, momentum=0.1, affine=True, track_running_stats=True)\n",
       "      (6): ReLU()\n",
       "      (7): Dropout(p=0.2, inplace=False)\n",
       "      (8): Linear(in_features=8, out_features=1, bias=True)\n",
       "    )\n",
       "  )\n",
       "  (linear): FeaturesLinear(\n",
       "    (fc): Embedding(23681188, 1)\n",
       "  )\n",
       ")"
      ]
     },
     "execution_count": 3,
     "metadata": {},
     "output_type": "execute_result"
    }
   ],
   "source": [
    "batch_size = 512\n",
    "device = 'cuda:0' if torch.cuda.is_available()  else 'cpu'\n",
    "device, batch_size\n",
    "\n",
    "dataset = AvanzuDatasetBuilder.create_dataset(DATASET_PATH,\n",
    "                                                 batch_size= batch_size)\n",
    "\n",
    "model_state_dict = torch.load(CHECKPINT_PATH)['model_state_dict']\n",
    "xdf_model = get_model(dataset)\n",
    "xdf_model.load_state_dict(model_state_dict)\n",
    "xdf_model.eval()\n",
    "xdf_model.to(device)"
   ]
  },
  {
   "cell_type": "code",
   "execution_count": 4,
   "metadata": {},
   "outputs": [],
   "source": [
    "baseline_xgb_model = get_baseline_model()"
   ]
  },
  {
   "cell_type": "code",
   "execution_count": 5,
   "metadata": {},
   "outputs": [
    {
     "name": "stdout",
     "output_type": "stream",
     "text": [
      "read\n",
      "loaded\n"
     ]
    },
    {
     "name": "stderr",
     "output_type": "stream",
     "text": [
      "100%|██████████| 63171/63171 [00:41<00:00, 1536.51it/s]\n"
     ]
    },
    {
     "data": {
      "text/html": [
       "<div>\n",
       "<style scoped>\n",
       "    .dataframe tbody tr th:only-of-type {\n",
       "        vertical-align: middle;\n",
       "    }\n",
       "\n",
       "    .dataframe tbody tr th {\n",
       "        vertical-align: top;\n",
       "    }\n",
       "\n",
       "    .dataframe thead th {\n",
       "        text-align: right;\n",
       "    }\n",
       "</style>\n",
       "<table border=\"1\" class=\"dataframe\">\n",
       "  <thead>\n",
       "    <tr style=\"text-align: right;\">\n",
       "      <th></th>\n",
       "      <th>target</th>\n",
       "      <th>prediction</th>\n",
       "      <th>site_id</th>\n",
       "    </tr>\n",
       "  </thead>\n",
       "  <tbody>\n",
       "    <tr>\n",
       "      <th>46457</th>\n",
       "      <td>1.0</td>\n",
       "      <td>0.274234</td>\n",
       "      <td>4</td>\n",
       "    </tr>\n",
       "  </tbody>\n",
       "</table>\n",
       "</div>"
      ],
      "text/plain": [
       "       target  prediction  site_id\n",
       "46457     1.0    0.274234        4"
      ]
     },
     "execution_count": 5,
     "metadata": {},
     "output_type": "execute_result"
    }
   ],
   "source": [
    "xdfm_predictions_df = PredictionsUtils.get_xdfm_avanzu_predictions(xdf_model, DATASET_PATH, device)\n",
    "xdfm_predictions_df.sample(1)"
   ]
  },
  {
   "cell_type": "code",
   "execution_count": 6,
   "metadata": {},
   "outputs": [
    {
     "name": "stdout",
     "output_type": "stream",
     "text": [
      "read\n",
      "loaded\n"
     ]
    },
    {
     "data": {
      "text/html": [
       "<div>\n",
       "<style scoped>\n",
       "    .dataframe tbody tr th:only-of-type {\n",
       "        vertical-align: middle;\n",
       "    }\n",
       "\n",
       "    .dataframe tbody tr th {\n",
       "        vertical-align: top;\n",
       "    }\n",
       "\n",
       "    .dataframe thead th {\n",
       "        text-align: right;\n",
       "    }\n",
       "</style>\n",
       "<table border=\"1\" class=\"dataframe\">\n",
       "  <thead>\n",
       "    <tr style=\"text-align: right;\">\n",
       "      <th></th>\n",
       "      <th>target</th>\n",
       "      <th>prediction</th>\n",
       "      <th>site_id</th>\n",
       "    </tr>\n",
       "  </thead>\n",
       "  <tbody>\n",
       "    <tr>\n",
       "      <th>1741406</th>\n",
       "      <td>0.0</td>\n",
       "      <td>0.0</td>\n",
       "      <td>7</td>\n",
       "    </tr>\n",
       "    <tr>\n",
       "      <th>781421</th>\n",
       "      <td>1.0</td>\n",
       "      <td>0.0</td>\n",
       "      <td>4</td>\n",
       "    </tr>\n",
       "  </tbody>\n",
       "</table>\n",
       "</div>"
      ],
      "text/plain": [
       "         target  prediction  site_id\n",
       "1741406     0.0         0.0        7\n",
       "781421      1.0         0.0        4"
      ]
     },
     "execution_count": 6,
     "metadata": {},
     "output_type": "execute_result"
    }
   ],
   "source": [
    "xgb_predictions_df = PredictionsUtils.get_xgboost_avanzu_predictions(baseline_xgb_model, DATASET_PATH)\n",
    "xgb_predictions_df.sample(2)"
   ]
  },
  {
   "cell_type": "code",
   "execution_count": 17,
   "metadata": {},
   "outputs": [],
   "source": [
    "def calc_metric(predictions_df, metric_func):\n",
    "    return metric_func(predictions_df['target'], predictions_df['prediction'])\n",
    "\n",
    "def calc_auc(predictions_df):\n",
    "    \n",
    "    fpr, tpr, _ = roc_curve(predictions_df['target'], predictions_df['prediction'])\n",
    "    \n",
    "    return auc(fpr, tpr)\n",
    "\n",
    "#, , \n",
    "\n",
    "def calc_metrics(predictions_df, model_name):\n",
    "    \n",
    "    model_log_loss_score = calc_metric(predictions_df, log_loss)\n",
    "    auc_score = calc_auc(predictions_df)\n",
    "    \n",
    "    return pd.DataFrame([(model_name, model_log_loss_score, auc_score, )],\n",
    "                       columns=['model_name','log_loss', 'auc_score'] )\n",
    "\n"
   ]
  },
  {
   "cell_type": "code",
   "execution_count": null,
   "metadata": {},
   "outputs": [],
   "source": [
    "calc_metrics(xdfm_predictions_df, 'xdfm')"
   ]
  },
  {
   "cell_type": "code",
   "execution_count": null,
   "metadata": {},
   "outputs": [],
   "source": [
    "calc_metrics(xgb_predictions_df, 'xgb')"
   ]
  }
 ],
 "metadata": {
  "kernelspec": {
   "display_name": "RS1(1)",
   "language": "python",
   "name": "rs1"
  },
  "language_info": {
   "codemirror_mode": {
    "name": "ipython",
    "version": 3
   },
   "file_extension": ".py",
   "mimetype": "text/x-python",
   "name": "python",
   "nbconvert_exporter": "python",
   "pygments_lexer": "ipython3",
   "version": "3.6.13"
  }
 },
 "nbformat": 4,
 "nbformat_minor": 4
}

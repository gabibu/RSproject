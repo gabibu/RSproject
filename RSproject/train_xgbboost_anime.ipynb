{
 "cells": [
  {
   "cell_type": "code",
   "execution_count": 6,
   "metadata": {},
   "outputs": [],
   "source": [
    "import xgboost\n",
    "import torch\n",
    "import tqdm\n",
    "from typing import Optional\n",
    "from sklearn.metrics import mean_absolute_error, mean_squared_error\n",
    "from rs.models.xdfm import ExtremeDeepFactorizationMachineModel\n",
    "from rs.datasets.anime import AnimeDatasetBuilder\n",
    "import logging\n",
    "import torch.nn as nn\n",
    "from rs.train_anime import get_model, get_xgboost_model\n",
    "import seaborn as sns\n",
    "import pandas as pd"
   ]
  },
  {
   "cell_type": "code",
   "execution_count": 7,
   "metadata": {},
   "outputs": [],
   "source": [
    "DATASET_PATH = '/rs/datasets/anime'\n",
    "model_checkpoint_path = 'models/xgboost_anime_{}.json'"
   ]
  },
  {
   "cell_type": "code",
   "execution_count": 8,
   "metadata": {},
   "outputs": [],
   "source": [
    "X_train, X_test, y_train, y_test = AnimeDatasetBuilder.get_matrix_dataset(DATASET_PATH)"
   ]
  },
  {
   "cell_type": "code",
   "execution_count": 10,
   "metadata": {},
   "outputs": [],
   "source": [
    "for n_estimators in [30, 60, 100, 150, 250]:\n",
    "    \n",
    "    for max_depth in [3, 7, 10, 15, 20]:\n",
    "        \n",
    "        for min_child_weight in range(5,8):\n",
    "            \n",
    "            model = xgboost.XGBRegressor(n_estimators=n_estimators, max_depth=max_depth, eta=0.1, subsample=0.7, \n",
    "                                         colsample_bytree=0.8, early_stopping_rounds=20,\n",
    "                                        min_child_weight = min_child_weight)\n",
    "            model.fit(X_train, y_train)\n",
    "\n",
    "            predictions = model.predict(X_test)\n",
    "            mean_abs_score = mean_absolute_error(y_test, predictions)\n",
    "\n",
    "            model_checkpoint_path = model_checkpoint_path.format(mean_abs_score)\n",
    "\n",
    "            model.save_model(model_checkpoint_path)\n"
   ]
  },
  {
   "cell_type": "code",
   "execution_count": null,
   "metadata": {},
   "outputs": [],
   "source": []
  }
 ],
 "metadata": {
  "kernelspec": {
   "display_name": "RS1(1)",
   "language": "python",
   "name": "rs1"
  },
  "language_info": {
   "codemirror_mode": {
    "name": "ipython",
    "version": 3
   },
   "file_extension": ".py",
   "mimetype": "text/x-python",
   "name": "python",
   "nbconvert_exporter": "python",
   "pygments_lexer": "ipython3",
   "version": "3.6.13"
  }
 },
 "nbformat": 4,
 "nbformat_minor": 4
}

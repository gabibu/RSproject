{
 "cells": [
  {
   "cell_type": "code",
   "execution_count": 1,
   "metadata": {},
   "outputs": [],
   "source": [
    "from xgboost import XGBClassifier\n",
    "from rs.datasets.avanzu import AvanzuDatasetBuilder\n",
    "from sklearn import metrics"
   ]
  },
  {
   "cell_type": "code",
   "execution_count": 2,
   "metadata": {},
   "outputs": [],
   "source": [
    "dataset_path = 'rs/datasets/avazu-ctr-prediction'\n",
    "model_checkpoint_path ='avanzu/xgboost/auc_{}.json'"
   ]
  },
  {
   "cell_type": "code",
   "execution_count": 3,
   "metadata": {},
   "outputs": [
    {
     "name": "stdout",
     "output_type": "stream",
     "text": [
      "read\n",
      "loaded\n"
     ]
    }
   ],
   "source": [
    "X_train, X_test, y_train, y_test = AvanzuDatasetBuilder.create_matrix_dataset(dataset_path)"
   ]
  },
  {
   "cell_type": "code",
   "execution_count": null,
   "metadata": {},
   "outputs": [],
   "source": [
    "for n_estimators in [30, 60, 100, 150, 250]:\n",
    "    \n",
    "    for max_depth in [3, 7, 10, 15, 20]:\n",
    "        \n",
    "        for min_child_weight in range(5,8):\n",
    "            \n",
    "            model = xgboost.XGBRegressor(n_estimators=n_estimators, max_depth=max_depth, eta=0.1, subsample=0.7, \n",
    "                                         colsample_bytree=0.8, early_stopping_rounds=20,\n",
    "                                        min_child_weight = min_child_weight)\n",
    "            model.fit(X_train, y_train)\n",
    "\n",
    "            predictions = model.predict(X_test)\n",
    "            \n",
    "            \n",
    "            fpr, tpr, _ = metrics.roc_curve(y_test, predictions)\n",
    "\n",
    "            auc_score = metrics.auc(fpr, tpr)\n",
    "            \n",
    "\n",
    "            model_checkpoint_path = model_checkpoint_path.format(auc_score)\n",
    "\n",
    "            model.save_model(model_checkpoint_path)\n"
   ]
  }
 ],
 "metadata": {
  "kernelspec": {
   "display_name": "RS1(1)",
   "language": "python",
   "name": "rs1"
  },
  "language_info": {
   "codemirror_mode": {
    "name": "ipython",
    "version": 3
   },
   "file_extension": ".py",
   "mimetype": "text/x-python",
   "name": "python",
   "nbconvert_exporter": "python",
   "pygments_lexer": "ipython3",
   "version": "3.6.13"
  }
 },
 "nbformat": 4,
 "nbformat_minor": 4
}
